{
 "cells": [
  {
   "cell_type": "markdown",
   "metadata": {
    "dotnet_interactive": {
     "language": "csharp"
    },
    "polyglot_notebook": {
     "kernelName": "csharp"
    }
   },
   "source": [
    "# Lab 8 Exercise 6\n",
    "\n",
    "## Method with parameter"
   ]
  },
  {
   "cell_type": "markdown",
   "metadata": {},
   "source": [
    "1. สร้าง console application project\n",
    "\n",
    "```\n",
    "    dotnet new console --name Lab08_Ex06\n",
    "```\n"
   ]
  },
  {
   "cell_type": "markdown",
   "metadata": {},
   "source": [
    "2. เปลี่ยน code ให้เป็นดังต่อไปนี้\n",
    "\n",
    "> ```csharp\n",
    "> 1. var mc = new MyClass();\n",
    "> 2. mc.DisplayParam(3, 4);\n",
    "> 3. class MyClass\n",
    "> 4. {\n",
    "> 5.     public void DisplayParam(int a, int b)\n",
    "> 6.     {\n",
    "> 7.         System.Console.WriteLine($\"a = {a}, b = {b}\");\n",
    "> 8.     } \n",
    "> 9. }\n",
    "> ```\n",
    "\n"
   ]
  },
  {
   "cell_type": "markdown",
   "metadata": {},
   "source": [
    "3. Build project โดยการใช้คำสั่ง\n",
    "\n",
    "```\n",
    "    dotnet build  Lab08_Ex06\n",
    "```"
   ]
  },
  {
   "cell_type": "markdown",
   "metadata": {},
   "source": [
    "4. บันทึกผลที่ได้จากการรันคำสั่งในข้อ 3\n",
    "\n"
   ]
  },
  {
   "cell_type": "markdown",
   "metadata": {},
   "source": [
    "*คำตอบ*"
   ]
  },
  {
   "attachments": {
    "image.png": {
     "image/png": "[encoded data removed]"
    }
   },
   "cell_type": "markdown",
   "metadata": {},
   "source": [
    "![image.png](attachment:image.png)"
   ]
  },
  {
   "cell_type": "markdown",
   "metadata": {},
   "source": [
    "5. Run project โดยการใช้คำสั่ง\n",
    "\n",
    "```\n",
    "    dotnet run --project Lab08_Ex06\n",
    "```"
   ]
  },
  {
   "cell_type": "markdown",
   "metadata": {},
   "source": [
    "6. บันทึกผลที่ได้จากการรันคำสั่งในข้อ 5\n",
    "\n",
    "\n"
   ]
  },
  {
   "cell_type": "markdown",
   "metadata": {},
   "source": [
    "*คำตอบ*"
   ]
  },
  {
   "attachments": {
    "image-2.png": {
     "image/png": "[encoded data removed]"
    }
   },
   "cell_type": "markdown",
   "metadata": {},
   "source": [
    "![image-2.png](attachment:image-2.png)"
   ]
  },
  {
   "cell_type": "markdown",
   "metadata": {},
   "source": [
    "7. อธิบายสิ่งที่พบในการทดลอง\n"
   ]
  },
  {
   "cell_type": "markdown",
   "metadata": {},
   "source": [
    "*คำตอบ*"
   ]
  },
  {
   "cell_type": "markdown",
   "metadata": {},
   "source": [
    "var myObj = new MyClass();: สร้างอ็อบเจ็กต์ (object) ใหม่ชื่อ myObj จากคลาส MyClass\n",
    "\n",
    "Console.WriteLine(...): บรรทัดเหล่านี้ใช้สำหรับแสดงค่าของฟิลด์ต่างๆ ของอ็อบเจ็กต์ myObj ออกทางหน้าจอ โดยมีการระบุข้อความอธิบายควบคู่ไปด้วย"
   ]
  },
  {
   "cell_type": "markdown",
   "metadata": {},
   "source": [
    "8. นำ code ในข้อ 2 มารันบน polyglot notebook  โดยใส่ใน  code cell ด้านล่างนี้\n"
   ]
  },
  {
   "cell_type": "code",
   "execution_count": null,
   "metadata": {
    "dotnet_interactive": {
     "language": "csharp"
    },
    "polyglot_notebook": {
     "kernelName": "csharp"
    }
   },
   "outputs": [
    {
     "name": "stdout",
     "output_type": "stream",
     "text": [
      "a= 3, b = 4\r\n"
     ]
    }
   ],
   "source": [
    "var mc = new MyClass();\n",
    "mc.DisplayParam(3, 4);\n",
    "\n",
    "class MyClass\n",
    "{\n",
    "    public void DisplayParam(int a, int b)\n",
    "    {\n",
    "        System.Console.WriteLine($\"a= {a}, b = {b}\");\n",
    "    }\n",
    "}"
   ]
  },
  {
   "cell_type": "markdown",
   "metadata": {},
   "source": [
    "8.1 ผลการรันเป็นอย่างไร\n",
    "\n"
   ]
  },
  {
   "cell_type": "markdown",
   "metadata": {},
   "source": [
    "*คำตอบ*"
   ]
  },
  {
   "attachments": {
    "image.png": {
     "image/png": "[encoded data removed]"
    }
   },
   "cell_type": "markdown",
   "metadata": {},
   "source": [
    "![image.png](attachment:image.png)"
   ]
  },
  {
   "cell_type": "markdown",
   "metadata": {},
   "source": [
    "8.2 เหมือนหรือต่างจาก console application อย่างไร"
   ]
  },
  {
   "cell_type": "markdown",
   "metadata": {},
   "source": [
    "*คำตอบ*"
   ]
  },
  {
   "cell_type": "markdown",
   "metadata": {},
   "source": [
    "เหมือนกัน"
   ]
  },
  {
   "cell_type": "markdown",
   "metadata": {},
   "source": [
    "## คำถาม"
   ]
  },
  {
   "cell_type": "markdown",
   "metadata": {},
   "source": [
    "1. Method with parameter คืออะไร\n"
   ]
  },
  {
   "cell_type": "markdown",
   "metadata": {},
   "source": [
    "*คำตอบ*"
   ]
  },
  {
   "cell_type": "markdown",
   "metadata": {},
   "source": [
    " Method with parameter คือ เมธอดที่รับค่าตัวแปรจากภายนอก (เรียกว่า \"อาร์กิวเมนต์\") เข้ามาประมวลผลภายในเมธอด ค่าที่รับเข้ามานี้เรียกว่า \"พารามิเตอร์\" ซึ่งเปรียบเสมือนตัวแทนของข้อมูลที่เมธอดต้องการเพื่อทำงานให้สำเร็จ"
   ]
  },
  {
   "cell_type": "markdown",
   "metadata": {},
   "source": [
    "2. ทำไมเราต้องใช้ parameter ใน method\n"
   ]
  },
  {
   "cell_type": "markdown",
   "metadata": {},
   "source": [
    "*คำตอบ*"
   ]
  },
  {
   "cell_type": "markdown",
   "metadata": {},
   "source": [
    "เหตุผลที่เราใช้พารามิเตอร์ในเมธอดมีหลายประการ เช่น:\n",
    "\n",
    "เพิ่มความยืดหยุ่น: ช่วยให้เมธอดสามารถทำงานกับข้อมูลที่หลากหลายได้ โดยไม่จำเป็นต้องแก้ไขโค้ดภายในเมธอด\n",
    "ลดความซ้ำซ้อน: ช่วยให้เราสามารถนำโค้ดที่ทำงานคล้ายกันมาใช้ซ้ำได้ โดยเปลี่ยนเฉพาะค่าพารามิเตอร์ที่แตกต่างกัน\n",
    "แบ่งงาน: ช่วยให้เราสามารถแบ่งงานออกเป็นส่วนย่อยๆ ที่รับผิดชอบโดยแต่ละเมธอดได้ ทำให้โค้ดอ่านง่ายและบำรุงรักษาง่ายขึ้น"
   ]
  },
  {
   "cell_type": "markdown",
   "metadata": {},
   "source": [
    "3. parameter และ argument แตกต่างกันอย่างไร\n"
   ]
  },
  {
   "cell_type": "markdown",
   "metadata": {},
   "source": [
    "*คำตอบ*"
   ]
  },
  {
   "cell_type": "markdown",
   "metadata": {},
   "source": [
    "พารามิเตอร์ (parameter) คือ ตัวแปรที่ประกาศไว้ในส่วนหัวของเมธอด เพื่อรับค่าจากภายนอก ส่วนอาร์กิวเมนต์ (argument) คือ ค่าจริงที่เราส่งเข้าไปในเมธอดเมื่อเรียกใช้งาน"
   ]
  },
  {
   "cell_type": "markdown",
   "metadata": {},
   "source": [
    "4. ส่วนประกอบของ method ที่มี parameter มีอะไรบ้าง\n"
   ]
  },
  {
   "cell_type": "markdown",
   "metadata": {},
   "source": [
    "*คำตอบ*"
   ]
  },
  {
   "cell_type": "markdown",
   "metadata": {},
   "source": [
    " ส่วนประกอบของเมธอดที่มีพารามิเตอร์ประกอบด้วย:\n",
    "\n",
    "ส่วนหัวของเมธอด: ประกอบด้วย ชื่อเมธอด, ชนิดข้อมูลที่เมธอดส่งกลับ (ถ้ามี) และรายการของพารามิเตอร์ที่อยู่ในวงเล็บ\n",
    "ส่วนตัวของเมธอด: เป็นส่วนที่อยู่ภายในเครื่องหมายปีกกา { } ซึ่งประกอบด้วยชุดคำสั่งที่เมธอดใช้ประมวลผล"
   ]
  },
  {
   "cell_type": "markdown",
   "metadata": {},
   "source": [
    "5. เมื่อไหร่ควรใช้ method ที่มี parameter"
   ]
  },
  {
   "cell_type": "markdown",
   "metadata": {},
   "source": [
    "*คำตอบ*"
   ]
  },
  {
   "cell_type": "markdown",
   "metadata": {},
   "source": [
    "เราควรใช้เมธอดที่มีพารามิเตอร์เมื่อ\n",
    "ข้อมูลที่เมธอดต้องใช้ในการประมวลผลมาจากภายนอก\n",
    "เราต้องการให้เมธอดทำงานกับข้อมูลที่หลากหลาย\n",
    "เราต้องการลดความซ้ำซ้อนของโค้ด"
   ]
  },
  {
   "cell_type": "markdown",
   "metadata": {},
   "source": [
    "6. ถ้าแก้ไขโค้ดในบรรทัดที่ 2 เป็นดังต่อไปนี้  จะได้ผลการ build หรือ run เป็นอย่างไร ให้แสดง output ที่โปรแกรมแสดงออกมา\n",
    "```csharp\n",
    "    mc.DisplayParam(3.5, 4.2);\n",
    "```\n"
   ]
  },
  {
   "cell_type": "code",
   "execution_count": null,
   "metadata": {
    "dotnet_interactive": {
     "language": "csharp"
    },
    "polyglot_notebook": {
     "kernelName": "csharp"
    }
   },
   "outputs": [],
   "source": [
    "var mc = new MyClass();\n",
    "mc.DisplayParam(3.5, 4.2);\n",
    "\n",
    "class MyClass\n",
    "{\n",
    "    public void DisplayParam(int a, int b)\n",
    "    {\n",
    "        System.Console.WriteLine($\"a= {a}, b = {b}\");\n",
    "    }\n",
    "}"
   ]
  },
  {
   "cell_type": "markdown",
   "metadata": {},
   "source": [
    "*คำตอบ*"
   ]
  },
  {
   "attachments": {
    "image.png": {
     "image/png": "[encoded data removed]"
    }
   },
   "cell_type": "markdown",
   "metadata": {},
   "source": [
    "![image.png](attachment:image.png)"
   ]
  },
  {
   "cell_type": "markdown",
   "metadata": {},
   "source": [
    "7. ถ้าแก้ไขโค้ดในบรรทัดที่ 2 เป็นดังต่อไปนี้  จะได้ผลการ build หรือ run เป็นอย่างไร ให้แสดง output ที่โปรแกรมแสดงออกมา\n",
    "```csharp\n",
    "    mc.DisplayParam(\"Hello\", \"World\");\n",
    "```"
   ]
  },
  {
   "cell_type": "code",
   "execution_count": null,
   "metadata": {
    "dotnet_interactive": {
     "language": "csharp"
    },
    "polyglot_notebook": {
     "kernelName": "csharp"
    }
   },
   "outputs": [],
   "source": [
    "var mc = new MyClass();\n",
    "mc.DisplayParam(\"Hello\", \"World\");\n",
    "\n",
    "class MyClass\n",
    "{\n",
    "    public void DisplayParam(int a, int b)\n",
    "    {\n",
    "        System.Console.WriteLine($\"a= {a}, b = {b}\");\n",
    "    }\n",
    "}"
   ]
  },
  {
   "cell_type": "markdown",
   "metadata": {},
   "source": [
    "*คำตอบ*"
   ]
  },
  {
   "attachments": {
    "image.png": {
     "image/png": "[encoded data removed]"
    }
   },
   "cell_type": "markdown",
   "metadata": {},
   "source": [
    "![image.png](attachment:image.png)"
   ]
  },
  {
   "cell_type": "markdown",
   "metadata": {},
   "source": [
    "8. จงเขียน method ที่ตรวจสอบว่าตัวเลขที่รับเข้ามาเป็นจำนวนคู่หรือจำนวนคี่ และแสดงผลลัพธ์ทางหน้าจอ"
   ]
  },
  {
   "cell_type": "code",
   "execution_count": null,
   "metadata": {
    "dotnet_interactive": {
     "language": "csharp"
    },
    "polyglot_notebook": {
     "kernelName": "csharp"
    }
   },
   "outputs": [],
   "source": [
    "// ส่วนของ Program.cs หรือไฟล์อื่นๆ ที่ต้องการเรียกใช้ method\n",
    "public static void Main(string[] args)\n",
    "{\n",
    "    int number1 = 10;\n",
    "    int number2 = 7;\n",
    "\n",
    "    CheckEvenOdd(number1); // เรียกใช้ method โดยส่ง number1 เป็น argument\n",
    "    CheckEvenOdd(number2); // เรียกใช้ method โดยส่ง number2 เป็น argument\n",
    "\n",
    "    // หรือจะรับค่าจากผู้ใช้\n",
    "    Console.Write(\"Enter a number: \");\n",
    "    int userInput = int.Parse(Console.ReadLine()); // อ่านค่าจาก Console และแปลงเป็น int\n",
    "    CheckEvenOdd(userInput); // เรียกใช้ method โดยส่ง userInput เป็น argument\n",
    "}"
   ]
  },
  {
   "cell_type": "markdown",
   "metadata": {},
   "source": [
    "*คำตอบ*"
   ]
  },
  {
   "cell_type": "markdown",
   "metadata": {},
   "source": [
    "โค้ดนี้แสดงให้เห็นถึงการสร้าง method ที่รับ parameter เพื่อตรวจสอบว่าเป็นเลขคู่หรือเลขคี่\n",
    "มีการเรียกใช้ method โดยส่งค่า argument ที่แตกต่างกัน\n",
    "มีการแสดงตัวอย่างการรับค่าจากผู้ใช้เพื่อนำไปตรวจสอบ"
   ]
  }
 ],
 "metadata": {
  "kernelspec": {
   "display_name": ".NET (C#)",
   "language": "C#",
   "name": ".net-csharp"
  },
  "polyglot_notebook": {
   "kernelInfo": {
    "defaultKernelName": "csharp",
    "items": [
     {
      "aliases": [],
      "languageName": "csharp",
      "name": "csharp"
     }
    ]
   }
  }
 },
 "nbformat": 4,
 "nbformat_minor": 2
}
