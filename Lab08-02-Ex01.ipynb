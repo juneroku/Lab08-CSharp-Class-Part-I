{
 "cells": [
  {
   "cell_type": "markdown",
   "metadata": {},
   "source": [
    "# Lab 8 Exercise 1 \n",
    "##  การสร้าง Class\n"
   ]
  },
  {
   "cell_type": "markdown",
   "metadata": {},
   "source": [
    "\n",
    "1. สร้าง console application project\n"
   ]
  },
  {
   "cell_type": "markdown",
   "metadata": {},
   "source": [
    "1.1 เรียก terminal (cmd) ขึ้นมา \n",
    "\n",
    "1.2 ตรวจสอบให้แน่ใจว่าอยู่ใน folder หรือ directory ที่ต้องการสร้าง project \n",
    "\n",
    "1.3 พิมพ์คำสั่งต่อไปนี้\n",
    "\n",
    "``` \n",
    "    dotnet new console --name Lab08_Ex01\n",
    "```\n",
    "\n",
    "1.4 ใช้คำสั่ง dir เพื่อตรวจสอบดูว่าโฟลเดอร์ของ project ได้ถูกสร้างขึ้นแล้วหรือยัง"
   ]
  },
  {
   "cell_type": "markdown",
   "metadata": {},
   "source": [
    "\n",
    "2. เปลี่ยน code ในไฟล์ program.cs ให้เป็นดังต่อไปนี้ (ตัวเลขข้างหน้า คือหมายเลขบรรทัด ไว้สำหรับอ้างอิง)\n",
    "\n",
    "> ```c#\n",
    "> 1.  Person p = new Person();\n",
    "> 2.  System.Console.WriteLine($\"Type of p is {p.GetType()}\");\n",
    "> 3.  \n",
    "> 4.  class Person\n",
    "> 5.  {\n",
    "> 6.  \n",
    "> 7.  }\n",
    "> ```\n"
   ]
  },
  {
   "cell_type": "markdown",
   "metadata": {},
   "source": [
    "\n",
    "3. Build project โดยการใช้คำสั่ง\n",
    "\n",
    "```\n",
    "dotnet build  Lab08_Ex01\n",
    "```\n"
   ]
  },
  {
   "cell_type": "markdown",
   "metadata": {},
   "source": [
    "\n",
    "4. บันทึกผลที่ได้จากการรันคำสั่งในข้อ 3\n"
   ]
  },
  {
   "cell_type": "markdown",
   "metadata": {},
   "source": [
    "*คำตอบ*"
   ]
  },
  {
   "attachments": {
    "image.png": {
     "image/png": "[encoded data removed]"
    }
   },
   "cell_type": "markdown",
   "metadata": {},
   "source": [
    "![image.png](attachment:image.png)"
   ]
  },
  {
   "cell_type": "markdown",
   "metadata": {},
   "source": []
  },
  {
   "cell_type": "markdown",
   "metadata": {},
   "source": [
    "\n",
    "5. Run project โดยการใช้คำสั่ง\n",
    "\n",
    "```\n",
    "dotnet run --project Lab08_Ex01\n",
    "```\n"
   ]
  },
  {
   "cell_type": "markdown",
   "metadata": {},
   "source": [
    "\n",
    "6. บันทึกผลที่ได้จากการรันคำสั่งในข้อ 5\n"
   ]
  },
  {
   "attachments": {
    "image.png": {
     "image/png": "[encoded data removed]"
    }
   },
   "cell_type": "markdown",
   "metadata": {},
   "source": [
    "![image.png](attachment:image.png)"
   ]
  },
  {
   "cell_type": "markdown",
   "metadata": {},
   "source": [
    "*คำตอบ*"
   ]
  },
  {
   "cell_type": "markdown",
   "metadata": {},
   "source": []
  },
  {
   "cell_type": "markdown",
   "metadata": {},
   "source": [
    "7. โค้ดต่อไปนี้สามารถรันได้ใน polyglot notebook หรือไม่ "
   ]
  },
  {
   "cell_type": "code",
   "execution_count": 1,
   "metadata": {
    "dotnet_interactive": {
     "language": "csharp"
    },
    "polyglot_notebook": {
     "kernelName": "csharp"
    },
    "vscode": {
     "languageId": "polyglot-notebook"
    }
   },
   "outputs": [
    {
     "name": "stdout",
     "output_type": "stream",
     "text": [
      "Type of p is Submission#1+Person\r\n"
     ]
    }
   ],
   "source": [
    "Person p = new Person();\n",
    "System.Console.WriteLine($\"Type of p is {p.GetType()}\");\n",
    "\n",
    "class Person\n",
    "{\n",
    "\n",
    "}"
   ]
  },
  {
   "cell_type": "markdown",
   "metadata": {},
   "source": [
    "*คำตอบ*"
   ]
  },
  {
   "cell_type": "markdown",
   "metadata": {},
   "source": [
    "สามารถรันบน polyglot notebook ได้"
   ]
  },
  {
   "cell_type": "markdown",
   "metadata": {},
   "source": [
    "## คำถาม\n",
    "\n"
   ]
  },
  {
   "cell_type": "markdown",
   "metadata": {},
   "source": [
    "1. Class ในภาษา C# คืออะไร\n"
   ]
  },
  {
   "cell_type": "markdown",
   "metadata": {},
   "source": [
    "*คำตอบ*"
   ]
  },
  {
   "cell_type": "markdown",
   "metadata": {},
   "source": [
    "Class ในภาษา C# คือพิมพ์เขียวหรือแม่แบบสำหรับสร้าง Object (วัตถุ) ซึ่งเป็นหน่วยพื้นฐานของการเขียนโปรแกรมเชิงวัตถุ (Object-Oriented Programming) Class กำหนดโครงสร้างและพฤติกรรมของ Object ที่สร้างขึ้นจากมัน"
   ]
  },
  {
   "cell_type": "markdown",
   "metadata": {},
   "source": [
    "2. Class มีหน้าที่อะไร\n"
   ]
  },
  {
   "cell_type": "markdown",
   "metadata": {},
   "source": [
    "*คำตอบ*"
   ]
  },
  {
   "cell_type": "markdown",
   "metadata": {},
   "source": [
    "Class มีหน้าที่หลักในการกำหนด\n",
    "คุณสมบัติ (Properties): ข้อมูลที่ Object จัดเก็บ เช่น ชื่อ, อายุ, สี\n",
    "เมธอด (Methods): การกระทำที่ Object สามารถทำได้ เช่น เดิน, วิ่ง, กิน"
   ]
  },
  {
   "cell_type": "markdown",
   "metadata": {},
   "source": [
    "3. ทำไมเราต้องใช้ Class\n"
   ]
  },
  {
   "cell_type": "markdown",
   "metadata": {},
   "source": [
    "*คำตอบ*"
   ]
  },
  {
   "cell_type": "markdown",
   "metadata": {},
   "source": [
    " เราใช้ Class เพื่อ\n",
    "จัดระเบียบโค้ด: ช่วยให้โค้ดเป็นระเบียบและง่ายต่อการจัดการ\n",
    "นำโค้ดกลับมาใช้ใหม่: สร้าง Object หลายๆ ตัวจาก Class เดียวกันได้\n",
    "ห่อหุ้มข้อมูล: ป้องกันการเข้าถึงข้อมูลโดยตรงจากภายนอก\n",
    "สร้างความสัมพันธ์: สร้างความสัมพันธ์ระหว่าง Object ต่างๆ"
   ]
  },
  {
   "cell_type": "markdown",
   "metadata": {},
   "source": [
    "4. ส่วนประกอบของ Class มีอะไรบ้าง\n"
   ]
  },
  {
   "cell_type": "markdown",
   "metadata": {},
   "source": [
    "*คำตอบ*"
   ]
  },
  {
   "cell_type": "markdown",
   "metadata": {},
   "source": [
    "ส่วนประกอบหลักของ Class ได้แก่\n",
    "Modifiers: กำหนดขอบเขตการเข้าถึง Class เช่น public, private\n",
    "Class Name: ชื่อของ Class\n",
    "Properties: คุณสมบัติของ Object\n",
    "Methods: การกระทำของ Object\n",
    "Constructors: เมธอดพิเศษที่ใช้สร้าง Object\n",
    "Events: เหตุการณ์ที่เกิดขึ้นกับ Object"
   ]
  },
  {
   "cell_type": "markdown",
   "metadata": {},
   "source": [
    "5. Class และ Object แตกต่างกันอย่างไร\n"
   ]
  },
  {
   "cell_type": "markdown",
   "metadata": {},
   "source": [
    "*คำตอบ*"
   ]
  },
  {
   "cell_type": "markdown",
   "metadata": {},
   "source": [
    "Class แม่แบบหรือพิมพ์เขียว,กำหนดโครงสร้างและพฤติกรรม,นามธรรม (Abstract) และ เปรียบเสมือนแม่พิมพ์\n",
    "Objectสิ่งที่สร้างขึ้นจากแม่แบบ,มีคุณสมบัติและพฤติกรรมตามที่ Class กำหนด,รูปธรรม (Concrete) และ เปรียบเสมือนสิ่งที่พิมพ์ออกมาจากแม่พิมพ์"
   ]
  },
  {
   "cell_type": "markdown",
   "metadata": {},
   "source": [
    "6. การตั้งชื่อ Class มีหลักเกณฑ์อย่างไร"
   ]
  },
  {
   "cell_type": "markdown",
   "metadata": {},
   "source": [
    "*คำตอบ*"
   ]
  },
  {
   "cell_type": "markdown",
   "metadata": {},
   "source": [
    "หลักเกณฑ์ในการตั้งชื่อ Class ในภาษา C# มีดังนี้ \n",
    "ชื่อสื่อความหมาย: ควรตั้งชื่อให้สื่อถึงหน้าที่หรือวัตถุประสงค์ของ Class เช่น Customer, Product, Order\n",
    "ใช้คำนาม: ชื่อ Class ส่วนใหญ่ควรเป็นคำนาม\n",
    "อักษรตัวแรกเป็นพิมพ์ใหญ่: เช่น MyClass\n",
    "หลีกเลี่ยงการใช้ตัวย่อ: ยกเว้นกรณีที่จำเป็นและเป็นที่เข้าใจกันทั่วไป\n",
    "ห้ามมีช่องว่างหรืออักขระพิเศษ: ใช้ตัวอักษร, ตัวเลข, และเครื่องหมาย _ (underscore) ได้\n",
    "คำนึงถึงความสอดคล้อง: ตั้งชื่อให้สอดคล้องกับ Class อื่นๆ ในโปรเจ็กต์"
   ]
  },
  {
   "cell_type": "markdown",
   "metadata": {},
   "source": [
    "7. คำสั่ง p.GetType() คืออะไร"
   ]
  },
  {
   "cell_type": "markdown",
   "metadata": {},
   "source": [
    "*คำตอบ*"
   ]
  },
  {
   "cell_type": "markdown",
   "metadata": {},
   "source": [
    "คำสั่ง p.GetType() เป็นเมธอดที่ใช้สำหรับ ดึงข้อมูลประเภท (Type) ของ Object ที่อ้างอิงโดยตัวแปร p ซึ่งเป็น Object ใดๆ ก็ได้ในภาษา C#"
   ]
  },
  {
   "cell_type": "markdown",
   "metadata": {},
   "source": [
    "8. ผลที่ได้จากคำสั่ง  p.GetType() คืออะไร มันให้ข้อมูลอะไรแก่เราบ้าง"
   ]
  },
  {
   "cell_type": "markdown",
   "metadata": {},
   "source": [
    "*คำตอบ*"
   ]
  },
  {
   "cell_type": "markdown",
   "metadata": {},
   "source": [
    "ผลลัพธ์ที่ได้จาก p.GetType() คือ Object ที่เป็น Type ซึ่งประกอบด้วยข้อมูลต่างๆ เกี่ยวกับประเภทของ Object นั้นๆ เช่น\n",
    "ชื่อ Class: ชื่อของ Class ที่ Object นั้นถูกสร้างขึ้นจาก\n",
    "Namespace: Namespace ที่ Class นั้นอยู่\n",
    "Assembly: Assembly ที่ Class นั้นถูกคอมไพล์\n",
    "Properties: ข้อมูล Properties ของ Class\n",
    "Methods: ข้อมูล Methods ของ Class\n",
    "ข้อมูลเหล่านี้มีประโยชน์ในการตรวจสอบและจัดการ Object ในโปรแกรม"
   ]
  },
  {
   "cell_type": "markdown",
   "metadata": {},
   "source": [
    "9. ในภาษา C# การประกาศ class ไว้ก่อนหรือหลังการสร้าง  object ต่างกันหรือไม่ "
   ]
  },
  {
   "cell_type": "markdown",
   "metadata": {},
   "source": [
    " ในภาษา C# การประกาศ Class ไว้ก่อนหรือหลังการสร้าง Object ไม่มีความแตกต่างกัน ตราบใดที่ Class นั้นอยู่ใน ขอบเขต (Scope) เช่น public กับ private ที่ Object สามารถเข้าถึงได้"
   ]
  }
 ],
 "metadata": {
  "kernelspec": {
   "display_name": ".NET (C#)",
   "language": "C#",
   "name": ".net-csharp"
  },
  "language_info": {
   "name": "python",
   "version": "3.13.1"
  },
  "polyglot_notebook": {
   "kernelInfo": {
    "defaultKernelName": "csharp",
    "items": [
     {
      "aliases": [],
      "languageName": "csharp",
      "name": "csharp"
     }
    ]
   }
  }
 },
 "nbformat": 4,
 "nbformat_minor": 2
}
