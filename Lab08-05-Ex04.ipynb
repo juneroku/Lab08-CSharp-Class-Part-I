{
 "cells": [
  {
   "cell_type": "markdown",
   "metadata": {},
   "source": [
    "# Lab 8 Exercise 4\n",
    "\n",
    "## Fields declaration and initialization\n",
    "\n"
   ]
  },
  {
   "cell_type": "markdown",
   "metadata": {},
   "source": [
    "\n",
    "1. สร้าง console application project\n",
    "\n",
    "```\n",
    "    dotnet new console --name Lab08_Ex04\n",
    "```\n"
   ]
  },
  {
   "cell_type": "markdown",
   "metadata": {},
   "source": [
    "\n",
    "2. เปลี่ยน code ให้เป็นดังต่อไปนี้\n",
    "\n",
    "> ```csharp\n",
    ">  1. var myObj = new MyClass();\n",
    ">  2. \n",
    ">  3. System.Console.WriteLine($\"Default integer      F1 = {myObj.F1}\");  //Implicit fields initialization\n",
    ">  4. System.Console.WriteLine($\"Default string       F2 = {myObj.F2}\");\n",
    ">  5. System.Console.WriteLine($\"Initialized integer  F3 = {myObj.F3}\");  //Explicit field initialization\n",
    ">  6. System.Console.WriteLine($\"Initialized string   F4 = {myObj.F4}\");\n",
    ">  7. \n",
    ">  8. class MyClass\n",
    ">  9. {\n",
    "> 10.    public int F1;\n",
    "> 11.    public string F2;\n",
    "> 12.    public int F3 = 100;\n",
    "> 13.    public string F4 = \"ASDF\";\n",
    "> 14. }\n",
    "> ```"
   ]
  },
  {
   "cell_type": "markdown",
   "metadata": {},
   "source": [
    "\n",
    "3. Build project โดยการใช้คำสั่ง\n",
    "\n",
    "```\n",
    "    dotnet build  Lab08_Ex04\n",
    "```"
   ]
  },
  {
   "cell_type": "markdown",
   "metadata": {},
   "source": [
    "\n",
    "4. บันทึกผลที่ได้จากการรันคำสั่งในข้อ 3\n"
   ]
  },
  {
   "cell_type": "markdown",
   "metadata": {},
   "source": [
    "*คำตอบ*"
   ]
  },
  {
   "attachments": {
    "image.png": {
     "image/png": "[encoded data removed]"
    }
   },
   "cell_type": "markdown",
   "metadata": {},
   "source": [
    "![image.png](attachment:image.png)"
   ]
  },
  {
   "cell_type": "markdown",
   "metadata": {},
   "source": [
    "\n",
    "5. Run project โดยการใช้คำสั่ง\n",
    "\n",
    "```\n",
    "    dotnet run --project Lab08_Ex04\n",
    "```"
   ]
  },
  {
   "cell_type": "markdown",
   "metadata": {},
   "source": [
    "\n",
    "6. บันทึกผลที่ได้จากการรันคำสั่งในข้อ 5\n",
    "\n"
   ]
  },
  {
   "cell_type": "markdown",
   "metadata": {},
   "source": [
    "*คำตอบ*"
   ]
  },
  {
   "attachments": {
    "image.png": {
     "image/png": "[encoded data removed]"
    }
   },
   "cell_type": "markdown",
   "metadata": {},
   "source": [
    "![image.png](attachment:image.png)"
   ]
  },
  {
   "cell_type": "markdown",
   "metadata": {},
   "source": [
    "7. อธิบายสิ่งที่พบในการทดลอง"
   ]
  },
  {
   "cell_type": "markdown",
   "metadata": {},
   "source": [
    "*คำตอบ*"
   ]
  },
  {
   "cell_type": "markdown",
   "metadata": {},
   "source": [
    "กำหนดค่าเริ่มต้นให้กับฟิลด์: ฟิลด์ F3 และ F4 มีการกำหนดค่าเริ่มต้นไว้แล้ว ในขณะที่ F1 และ F2 ไม่มีการกำหนดค่าเริ่มต้น\n",
    "ค่าเริ่มต้นของฟิลด์: เมื่อไม่ได้กำหนดค่าเริ่มต้นให้กับฟิลด์ int จะมีค่าเริ่มต้นเป็น 0 และฟิลด์ string จะมีค่าเริ่มต้นเป็นค่าว่าง (\"\")\n",
    "การเข้าถึงฟิลด์: ใช้เครื่องหมายจุด (.) เพื่อเข้าถึงฟิลด์ของอ็อบเจ็กต์ เช่น myObj.F1"
   ]
  },
  {
   "cell_type": "markdown",
   "metadata": {},
   "source": [
    "8. นำ code ในข้อ 2 มารันบน polyglot notebook  โดยใส่ใน  code cell ด้านล่างนี้\n"
   ]
  },
  {
   "cell_type": "code",
   "execution_count": null,
   "metadata": {
    "dotnet_interactive": {
     "language": "csharp"
    },
    "polyglot_notebook": {
     "kernelName": "csharp"
    }
   },
   "outputs": [],
   "source": [
    "var myObj = new MyClass();\n",
    "\n",
    "Console.WriteLine($\"Default integer initialization F1 = {myObj.F1}\"); // Implicit fields\n",
    "Console.WriteLine($\"Default string initialization F2 = {myObj.F2}\");\n",
    "Console.WriteLine($\"Initialized integer F3 = {myObj.F3}\"); // Explicit field initialization\n",
    "Console.WriteLine($\"Initialized string F4 = {myObj.F4}\");\n",
    "\n",
    "class MyClass\n",
    "{\n",
    "    public int F1;\n",
    "    public string F2;\n",
    "    public int F3 = 100;\n",
    "    public string F4 = \"ASDF\";\n",
    "}"
   ]
  },
  {
   "cell_type": "markdown",
   "metadata": {},
   "source": [
    "8.1 ผลการรันเป็นอย่างไร\n",
    "\n"
   ]
  },
  {
   "cell_type": "markdown",
   "metadata": {},
   "source": [
    "*คำตอบ*"
   ]
  },
  {
   "attachments": {
    "image.png": {
     "image/png": "[encoded data removed]"
    }
   },
   "cell_type": "markdown",
   "metadata": {},
   "source": [
    "![image.png](attachment:image.png)"
   ]
  },
  {
   "cell_type": "markdown",
   "metadata": {},
   "source": [
    "8.2 เหมือนหรือต่างจาก console application อย่างไร"
   ]
  },
  {
   "cell_type": "markdown",
   "metadata": {},
   "source": [
    "*คำตอบ*"
   ]
  },
  {
   "cell_type": "markdown",
   "metadata": {},
   "source": [
    "ผลการรันเหมือนกัน"
   ]
  },
  {
   "cell_type": "markdown",
   "metadata": {},
   "source": [
    "## คำถาม"
   ]
  },
  {
   "cell_type": "markdown",
   "metadata": {},
   "source": [
    "1. Field ในภาษา C# คืออะไร\n"
   ]
  },
  {
   "cell_type": "markdown",
   "metadata": {},
   "source": [
    "*คำตอบ*"
   ]
  },
  {
   "cell_type": "markdown",
   "metadata": {},
   "source": [
    "Field คือตัวแปรที่ประกาศไว้ภายในคลาส (class) หรือโครงสร้าง (struct) เพื่อเก็บข้อมูลของอ็อบเจ็กต์ (object) หรืออินสแตนซ์ (instance) ของคลาสหรือโครงสร้างนั้นๆ Field เป็นส่วนหนึ่งของสถานะ (state) ของอ็อบเจ็กต์"
   ]
  },
  {
   "cell_type": "markdown",
   "metadata": {},
   "source": [
    "2. Field มีหน้าที่อะไรใน class \n"
   ]
  },
  {
   "cell_type": "markdown",
   "metadata": {},
   "source": [
    "*คำตอบ*"
   ]
  },
  {
   "cell_type": "markdown",
   "metadata": {},
   "source": [
    "Field มีหน้าที่เก็บข้อมูลที่เป็นคุณลักษณะ (attributes) หรือสถานะของอ็อบเจ็กต์ ข้อมูลเหล่านี้สามารถนำไปใช้ในการดำเนินงานต่างๆ ของอ็อบเจ็กต์ หรือใช้ในการสื่อสารระหว่างอ็อบเจ็กต์ต่างๆ"
   ]
  },
  {
   "cell_type": "markdown",
   "metadata": {},
   "source": [
    "3. การประกาศ Field ทำได้อย่างไร"
   ]
  },
  {
   "cell_type": "markdown",
   "metadata": {},
   "source": [
    "*คำตอบ*"
   ]
  },
  {
   "cell_type": "markdown",
   "metadata": {},
   "source": [
    "การประกาศ Field ทำได้โดยการระบุชนิดข้อมูล (data type) ตามด้วยชื่อ Field และอาจมีการกำหนดค่าเริ่มต้น (initial value)"
   ]
  },
  {
   "cell_type": "markdown",
   "metadata": {},
   "source": [
    "4. Implicit fields initialization  คืออะไร"
   ]
  },
  {
   "cell_type": "markdown",
   "metadata": {},
   "source": [
    "*คำตอบ*"
   ]
  },
  {
   "cell_type": "markdown",
   "metadata": {},
   "source": [
    "Implicit fields initialization คือการกำหนดค่าเริ่มต้นให้กับ Field โดยอัตโนมัติเมื่อมีการสร้างอ็อบเจ็กต์ หากไม่ได้กำหนดค่าเริ่มต้นให้กับ Field ชนิดข้อมูลบางชนิด เช่น int จะมีค่าเริ่มต้นเป็น 0 และ string จะมีค่าเริ่มต้นเป็นค่าว่าง (\"\")"
   ]
  },
  {
   "cell_type": "markdown",
   "metadata": {},
   "source": [
    "5. Explicit field initialization คืออะไร\n",
    "\n"
   ]
  },
  {
   "cell_type": "markdown",
   "metadata": {},
   "source": [
    "*คำตอบ*"
   ]
  },
  {
   "cell_type": "markdown",
   "metadata": {},
   "source": [
    "Explicit field initialization คือการกำหนดค่าเริ่มต้นให้กับ Field โดยตรงในตอนที่ประกาศ Field "
   ]
  },
  {
   "cell_type": "markdown",
   "metadata": {},
   "source": [
    "6. Implicit fields initialization  และ Explicit field initialization แตกต่างกันอย่างไร\n",
    "\n"
   ]
  },
  {
   "cell_type": "markdown",
   "metadata": {},
   "source": [
    "*คำตอบ*"
   ]
  },
  {
   "cell_type": "markdown",
   "metadata": {},
   "source": [
    "Implicit fields initialization\n",
    "เป็นการกำหนดค่าเริ่มต้นให้กับฟิลด์โดยอัตโนมัติเมื่อมีการสร้างอ็อบเจ็กต์ (object) ของคลาสนั้นๆ\n",
    "หากไม่ได้กำหนดค่าเริ่มต้นให้กับฟิลด์ ชนิดข้อมูล (data type) บางชนิด เช่น int จะมีค่าเริ่มต้นเป็น 0 และ string จะมีค่าเริ่มต้นเป็นค่าว่าง (\"\")\n",
    "สะดวกและรวดเร็วในการเขียนโค้ด แต่ค่าเริ่มต้นอาจไม่ชัดเจนในทันที\n",
    "\n",
    "Explicit field initialization\n",
    "เป็นการกำหนดค่าเริ่มต้นให้กับฟิลด์โดยตรงในตอนที่ประกาศฟิลด์\n",
    "ค่าเริ่มต้นจะถูกกำหนดตามที่เราต้องการ\n",
    "ทำให้โค้ดอ่านง่ายและเข้าใจได้ง่ายขึ้นว่าฟิลด์มีค่าเริ่มต้นเป็นอะไร\n"
   ]
  }
 ],
 "metadata": {
  "kernelspec": {
   "display_name": ".NET (C#)",
   "language": "C#",
   "name": ".net-csharp"
  },
  "polyglot_notebook": {
   "kernelInfo": {
    "defaultKernelName": "csharp",
    "items": [
     {
      "aliases": [],
      "languageName": "csharp",
      "name": "csharp"
     }
    ]
   }
  }
 },
 "nbformat": 4,
 "nbformat_minor": 2
}
